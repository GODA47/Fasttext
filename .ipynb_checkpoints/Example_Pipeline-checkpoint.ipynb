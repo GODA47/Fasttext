{
 "cells": [
  {
   "cell_type": "code",
   "execution_count": 1,
   "id": "9ad91930-728b-4beb-9351-2b3beb5b403a",
   "metadata": {},
   "outputs": [],
   "source": [
    "import sys\n",
    "sys.path.insert(0, \"../..\")\n",
    "\n",
    "import torch\n",
    "import pytorch_lightning as pl\n",
    "\n",
    "from tqdm import tqdm\n",
    "from torch.nn import Module, Linear\n",
    "from torch.utils.data import DataLoader\n",
    "\n",
    "from Utilities.Datasets import YahooDataset\n",
    "from Utilities.Preprocessors import WordTokenizer, TokenIdPadding\n",
    "from Utilities.ModelTrainers import SkipgramTrainerModule, MulticlassSentenceClassificationTrainerModule, WordEmbedding"
   ]
  },
  {
   "cell_type": "code",
   "execution_count": 2,
   "id": "066cd906-c86d-4f2a-a551-df82966af3f3",
   "metadata": {},
   "outputs": [],
   "source": [
    "dataset = YahooDataset(max_samples=10000, local_dir=\"small_yahoo_dataset\")"
   ]
  },
  {
   "cell_type": "code",
   "execution_count": 5,
   "id": "b9651152-3b2d-440a-b6f8-2a6ec6a7937e",
   "metadata": {},
   "outputs": [
    {
     "data": {
      "text/plain": [
       "{'input': 'How do you stand regarding the Bush administration?\\nFor me.... as far away as possible.\\nThank God for George Bush!',\n",
       " 'target': 10}"
      ]
     },
     "execution_count": 5,
     "metadata": {},
     "output_type": "execute_result"
    }
   ],
   "source": [
    "dataset.train[4]"
   ]
  },
  {
   "cell_type": "code",
   "execution_count": 7,
   "id": "a51b8aed-daa8-4899-b320-6d9fcfd6e1dc",
   "metadata": {},
   "outputs": [
    {
     "data": {
      "text/plain": [
       "(9000, 1000, 10000)"
      ]
     },
     "execution_count": 7,
     "metadata": {},
     "output_type": "execute_result"
    }
   ],
   "source": [
    "len(dataset.train), len(dataset.val), len(dataset.test)"
   ]
  },
  {
   "cell_type": "code",
   "execution_count": 16,
   "id": "a2e2f6eb-e0d4-4b64-881b-aee2ce6f7d76",
   "metadata": {},
   "outputs": [
    {
     "name": "stderr",
     "output_type": "stream",
     "text": [
      "100%|██████████| 9000/9000 [00:08<00:00, 1018.04it/s]"
     ]
    },
    {
     "name": "stdout",
     "output_type": "stream",
     "text": [
      "995\n"
     ]
    },
    {
     "name": "stderr",
     "output_type": "stream",
     "text": [
      "\n"
     ]
    }
   ],
   "source": [
    "tokenizer = WordTokenizer(num_embeddings=20000, padding_idx=0)\n",
    "\n",
    "max_token_length = 0\n",
    "for sample in tqdm(dataset.train):\n",
    "    tokens = tokenizer(sample[\"input\"])\n",
    "    if len(tokens) > max_token_length:\n",
    "        max_token_length = len(tokens)\n",
    "print(max_token_length)"
   ]
  },
  {
   "cell_type": "code",
   "execution_count": 10,
   "id": "88a3de21-b41b-4293-85e3-ed6b9f23db6c",
   "metadata": {
    "tags": []
   },
   "outputs": [
    {
     "data": {
      "text/plain": [
       "{'token_ids': array([[14522,  5751, 13488,  2349,  4308, 19015,  1972, 14434,  9681,\n",
       "          4488,  5103, 11353, 17795,  1367, 18818,   785, 18818, 19833,\n",
       "          8510,  8244, 18818, 11159,  2652, 14510,   199, 18818,  1237,\n",
       "          4954,  2346, 14510, 12272,  6198,  4954,  9329, 14510,  3095,\n",
       "         12738,  8510,  2224, 16522, 16891, 17498, 14606,  4970,  3793,\n",
       "         18916,  5103,   302, 18915, 15787, 11291,  3799,  3912, 11375,\n",
       "         13488, 12625, 18916, 14510,  2144,     0,     0,     0,     0,\n",
       "             0,     0,     0,     0,     0,     0,     0]])}"
      ]
     },
     "execution_count": 10,
     "metadata": {},
     "output_type": "execute_result"
    }
   ],
   "source": [
    "tokenizer = WordTokenizer(num_embeddings=20000, padding_idx=0)\n",
    "padding = TokenIdPadding(padding_length=70, padding_idx=0)\n",
    "\n",
    "token_ids = tokenizer(dataset.train[0][\"input\"])\n",
    "\n",
    "output_dict = padding([token_ids])\n",
    "output_dict"
   ]
  },
  {
   "cell_type": "code",
   "execution_count": 8,
   "id": "d2698a97-5cde-44ca-8a4e-93031d72b76c",
   "metadata": {},
   "outputs": [],
   "source": [
    "class Preprocessor:\n",
    "    def __init__(self):\n",
    "        self.tokenizer = WordTokenizer(num_embeddings=20000, \n",
    "                                       padding_idx=0)\n",
    "        \n",
    "        self.padding = TokenIdPadding(padding_length=1000,\n",
    "                                      padding_idx=0)\n",
    "    \n",
    "    def __call__(self, sample):\n",
    "        # Process input\n",
    "        token_ids = self.tokenizer(sample[\"input\"])\n",
    "        output_dict = self.padding([token_ids])\n",
    "        token_ids = output_dict[\"token_ids\"][0]\n",
    "        \n",
    "        # Process target\n",
    "        class_id = sample[\"target\"] - 1\n",
    "        return {\"input\": token_ids, \"target\": class_id}"
   ]
  },
  {
   "cell_type": "code",
   "execution_count": 9,
   "id": "88ef32fb-963b-474b-8090-e09b8f1dcdfc",
   "metadata": {},
   "outputs": [],
   "source": [
    "preprocessor = Preprocessor()\n",
    "\n",
    "dataset.train.set_preprocessor(preprocessor)\n",
    "dataset.val.set_preprocessor(preprocessor)\n",
    "dataset.test.set_preprocessor(preprocessor)"
   ]
  },
  {
   "cell_type": "code",
   "execution_count": 10,
   "id": "49f8596d-e2fc-46d1-b19e-bf76c2529f94",
   "metadata": {
    "scrolled": true,
    "tags": []
   },
   "outputs": [
    {
     "data": {
      "text/plain": [
       "{'input': array([14522,  5751, 13488,  2349,  4308, 19015,  1972, 14434,  9681,\n",
       "         4488,  5103, 11353, 17795,  1367, 18818,   785, 18818, 19833,\n",
       "         8510,  8244, 18818, 11159,  2652, 14510,   199, 18818,  1237,\n",
       "         4954,  2346, 14510, 12272,  6198,  4954,  9329, 14510,  3095,\n",
       "        12738,  8510,  2224, 16522, 16891, 17498, 14606,  4970,  3793,\n",
       "        18916,  5103,   302, 18915, 15787, 11291,  3799,  3912, 11375,\n",
       "        13488, 12625, 18916, 14510,  2144,     0,     0,     0,     0,\n",
       "            0,     0,     0,     0,     0,     0,     0,     0,     0,\n",
       "            0,     0,     0,     0,     0,     0,     0,     0,     0,\n",
       "            0,     0,     0,     0,     0,     0,     0,     0,     0,\n",
       "            0,     0,     0,     0,     0,     0,     0,     0,     0,\n",
       "            0,     0,     0,     0,     0,     0,     0,     0,     0,\n",
       "            0,     0,     0,     0,     0,     0,     0,     0,     0,\n",
       "            0,     0,     0,     0,     0,     0,     0,     0,     0,\n",
       "            0,     0,     0,     0,     0,     0,     0,     0,     0,\n",
       "            0,     0,     0,     0,     0,     0,     0,     0,     0,\n",
       "            0,     0,     0,     0,     0,     0,     0,     0,     0,\n",
       "            0,     0,     0,     0,     0,     0,     0,     0,     0,\n",
       "            0,     0,     0,     0,     0,     0,     0,     0,     0,\n",
       "            0,     0,     0,     0,     0,     0,     0,     0,     0,\n",
       "            0,     0,     0,     0,     0,     0,     0,     0,     0,\n",
       "            0,     0,     0,     0,     0,     0,     0,     0,     0,\n",
       "            0,     0,     0,     0,     0,     0,     0,     0,     0,\n",
       "            0,     0,     0,     0,     0,     0,     0,     0,     0,\n",
       "            0,     0,     0,     0,     0,     0,     0,     0,     0,\n",
       "            0,     0,     0,     0,     0,     0,     0,     0,     0,\n",
       "            0,     0,     0,     0,     0,     0,     0,     0,     0,\n",
       "            0,     0,     0,     0,     0,     0,     0,     0,     0,\n",
       "            0,     0,     0,     0,     0,     0,     0,     0,     0,\n",
       "            0,     0,     0,     0,     0,     0,     0,     0,     0,\n",
       "            0,     0,     0,     0,     0,     0,     0,     0,     0,\n",
       "            0,     0,     0,     0,     0,     0,     0,     0,     0,\n",
       "            0,     0,     0,     0,     0,     0,     0,     0,     0,\n",
       "            0,     0,     0,     0,     0,     0,     0,     0,     0,\n",
       "            0,     0,     0,     0,     0,     0,     0,     0,     0,\n",
       "            0,     0,     0,     0,     0,     0,     0,     0,     0,\n",
       "            0,     0,     0,     0,     0,     0,     0,     0,     0,\n",
       "            0,     0,     0,     0,     0,     0,     0,     0,     0,\n",
       "            0,     0,     0,     0,     0,     0,     0,     0,     0,\n",
       "            0,     0,     0,     0,     0,     0,     0,     0,     0,\n",
       "            0,     0,     0,     0,     0,     0,     0,     0,     0,\n",
       "            0,     0,     0,     0,     0,     0,     0,     0,     0,\n",
       "            0,     0,     0,     0,     0,     0,     0,     0,     0,\n",
       "            0,     0,     0,     0,     0,     0,     0,     0,     0,\n",
       "            0,     0,     0,     0,     0,     0,     0,     0,     0,\n",
       "            0,     0,     0,     0,     0,     0,     0,     0,     0,\n",
       "            0,     0,     0,     0,     0,     0,     0,     0,     0,\n",
       "            0,     0,     0,     0,     0,     0,     0,     0,     0,\n",
       "            0,     0,     0,     0,     0,     0,     0,     0,     0,\n",
       "            0,     0,     0,     0,     0,     0,     0,     0,     0,\n",
       "            0,     0,     0,     0,     0,     0,     0,     0,     0,\n",
       "            0,     0,     0,     0,     0,     0,     0,     0,     0,\n",
       "            0,     0,     0,     0,     0,     0,     0,     0,     0,\n",
       "            0,     0,     0,     0,     0,     0,     0,     0,     0,\n",
       "            0,     0,     0,     0,     0,     0,     0,     0,     0,\n",
       "            0,     0,     0,     0,     0,     0,     0,     0,     0,\n",
       "            0,     0,     0,     0,     0,     0,     0,     0,     0,\n",
       "            0,     0,     0,     0,     0,     0,     0,     0,     0,\n",
       "            0,     0,     0,     0,     0,     0,     0,     0,     0,\n",
       "            0,     0,     0,     0,     0,     0,     0,     0,     0,\n",
       "            0,     0,     0,     0,     0,     0,     0,     0,     0,\n",
       "            0,     0,     0,     0,     0,     0,     0,     0,     0,\n",
       "            0,     0,     0,     0,     0,     0,     0,     0,     0,\n",
       "            0,     0,     0,     0,     0,     0,     0,     0,     0,\n",
       "            0,     0,     0,     0,     0,     0,     0,     0,     0,\n",
       "            0,     0,     0,     0,     0,     0,     0,     0,     0,\n",
       "            0,     0,     0,     0,     0,     0,     0,     0,     0,\n",
       "            0,     0,     0,     0,     0,     0,     0,     0,     0,\n",
       "            0,     0,     0,     0,     0,     0,     0,     0,     0,\n",
       "            0,     0,     0,     0,     0,     0,     0,     0,     0,\n",
       "            0,     0,     0,     0,     0,     0,     0,     0,     0,\n",
       "            0,     0,     0,     0,     0,     0,     0,     0,     0,\n",
       "            0,     0,     0,     0,     0,     0,     0,     0,     0,\n",
       "            0,     0,     0,     0,     0,     0,     0,     0,     0,\n",
       "            0,     0,     0,     0,     0,     0,     0,     0,     0,\n",
       "            0,     0,     0,     0,     0,     0,     0,     0,     0,\n",
       "            0,     0,     0,     0,     0,     0,     0,     0,     0,\n",
       "            0,     0,     0,     0,     0,     0,     0,     0,     0,\n",
       "            0,     0,     0,     0,     0,     0,     0,     0,     0,\n",
       "            0,     0,     0,     0,     0,     0,     0,     0,     0,\n",
       "            0,     0,     0,     0,     0,     0,     0,     0,     0,\n",
       "            0,     0,     0,     0,     0,     0,     0,     0,     0,\n",
       "            0,     0,     0,     0,     0,     0,     0,     0,     0,\n",
       "            0,     0,     0,     0,     0,     0,     0,     0,     0,\n",
       "            0,     0,     0,     0,     0,     0,     0,     0,     0,\n",
       "            0,     0,     0,     0,     0,     0,     0,     0,     0,\n",
       "            0,     0,     0,     0,     0,     0,     0,     0,     0,\n",
       "            0,     0,     0,     0,     0,     0,     0,     0,     0,\n",
       "            0,     0,     0,     0,     0,     0,     0,     0,     0,\n",
       "            0,     0,     0,     0,     0,     0,     0,     0,     0,\n",
       "            0,     0,     0,     0,     0,     0,     0,     0,     0,\n",
       "            0,     0,     0,     0,     0,     0,     0,     0,     0,\n",
       "            0,     0,     0,     0,     0,     0,     0,     0,     0,\n",
       "            0,     0,     0,     0,     0,     0,     0,     0,     0,\n",
       "            0,     0,     0,     0,     0,     0,     0,     0,     0,\n",
       "            0,     0,     0,     0,     0,     0,     0,     0,     0,\n",
       "            0,     0,     0,     0,     0,     0,     0,     0,     0,\n",
       "            0,     0,     0,     0,     0,     0,     0,     0,     0,\n",
       "            0,     0,     0,     0,     0,     0,     0,     0,     0,\n",
       "            0,     0,     0,     0,     0,     0,     0,     0,     0,\n",
       "            0,     0,     0,     0,     0,     0,     0,     0,     0,\n",
       "            0,     0,     0,     0,     0,     0,     0,     0,     0,\n",
       "            0,     0,     0,     0,     0,     0,     0,     0,     0,\n",
       "            0,     0,     0,     0,     0,     0,     0,     0,     0,\n",
       "            0,     0,     0,     0,     0,     0,     0,     0,     0,\n",
       "            0,     0,     0,     0,     0,     0,     0,     0,     0,\n",
       "            0,     0,     0,     0,     0,     0,     0,     0,     0,\n",
       "            0,     0,     0,     0,     0,     0,     0,     0,     0,\n",
       "            0,     0,     0,     0,     0,     0,     0,     0,     0,\n",
       "            0,     0,     0,     0,     0,     0,     0,     0,     0,\n",
       "            0,     0,     0,     0,     0,     0,     0,     0,     0,\n",
       "            0]),\n",
       " 'target': 6}"
      ]
     },
     "execution_count": 10,
     "metadata": {},
     "output_type": "execute_result"
    }
   ],
   "source": [
    "dataset.train[0]"
   ]
  },
  {
   "cell_type": "code",
   "execution_count": 11,
   "id": "19597000-08c9-47a6-9adf-fb961ff7cbef",
   "metadata": {},
   "outputs": [],
   "source": [
    "dataloader_train = DataLoader(dataset.train, batch_size=32, shuffle=True)\n",
    "dataloader_val = DataLoader(dataset.val, batch_size=32, shuffle=False)\n",
    "dataloader_test = DataLoader(dataset.test, batch_size=32, shuffle=False)"
   ]
  },
  {
   "cell_type": "code",
   "execution_count": 12,
   "id": "3ad0bd50-c18a-4a1a-a31d-4cb05a01afcd",
   "metadata": {},
   "outputs": [
    {
     "name": "stdout",
     "output_type": "stream",
     "text": [
      "torch.Size([32, 1000])\n",
      "tensor([[ 2652,  5328, 10728,  ...,     0,     0,     0],\n",
      "        [  530, 17795,  1115,  ...,     0,     0,     0],\n",
      "        [14480, 14555,  3912,  ...,     0,     0,     0],\n",
      "        ...,\n",
      "        [19901,  6968, 15787,  ...,     0,     0,     0],\n",
      "        [ 6091,  3592,  1910,  ...,     0,     0,     0],\n",
      "        [19580,  7887, 14510,  ...,     0,     0,     0]])\n",
      "\n",
      "torch.Size([32])\n",
      "tensor([1, 3, 4, 7, 7, 6, 5, 9, 4, 6, 6, 3, 7, 9, 6, 2, 6, 6, 4, 6, 5, 5, 6, 1,\n",
      "        1, 3, 6, 8, 8, 1, 6, 4])\n"
     ]
    }
   ],
   "source": [
    "for batch in dataloader_train:\n",
    "    print(batch[\"input\"].shape)\n",
    "    print(batch[\"input\"])\n",
    "    print()\n",
    "    print(batch[\"target\"].shape)\n",
    "    print(batch[\"target\"])\n",
    "    break"
   ]
  },
  {
   "cell_type": "code",
   "execution_count": 23,
   "id": "cfc82b5a-0b11-4a27-95df-004d3e05856e",
   "metadata": {},
   "outputs": [],
   "source": [
    "class YahooClassifier(Module):\n",
    "    def __init__(self, word_embedding, embedding_dim, class_size):\n",
    "        super().__init__()\n",
    "        self.word_embedding = word_embedding\n",
    "        self.linear_classifier = Linear(embedding_dim, class_size)\n",
    "        \n",
    "    def forward(self, token_ids):\n",
    "        \"\"\"\n",
    "        token_ids: (batch_size, words_num)\n",
    "        \"\"\"\n",
    "        # (batch_size, words_num, embedding_dim)\n",
    "        outputs = self.word_embedding(token_ids)\n",
    "        # (batch_size, embedding_dim)\n",
    "        outputs = torch.max(outputs, dim=1)[0]\n",
    "        # (batch_size, class_size)\n",
    "        outputs = self.linear_classifier(outputs)\n",
    "        return outputs"
   ]
  },
  {
   "cell_type": "code",
   "execution_count": 24,
   "id": "f3a27fc5-3d62-4315-b76b-1abbf4691db2",
   "metadata": {},
   "outputs": [],
   "source": [
    "word_embedding = WordEmbedding(num_embeddings=20000, embedding_dim=300, padding_idx=0)\n",
    "yahoo_classifier = YahooClassifier(word_embedding, embedding_dim=300, class_size=10)"
   ]
  },
  {
   "cell_type": "code",
   "execution_count": 25,
   "id": "a4d9c2bb-d8fc-4274-a214-bdd5eeb00de2",
   "metadata": {
    "scrolled": true,
    "tags": []
   },
   "outputs": [
    {
     "name": "stdout",
     "output_type": "stream",
     "text": [
      "torch.Size([32, 10])\n",
      "tensor([[-4.7722e-01, -9.3360e-02,  3.0805e+00,  6.2392e-02, -7.5214e-01,\n",
      "          3.9694e-01, -1.0916e-01, -5.1078e-01, -1.0713e+00,  1.1232e+00],\n",
      "        [-6.1630e-01, -3.6279e-01,  1.8831e+00,  3.2270e-01, -1.1273e+00,\n",
      "          7.1028e-01,  2.6147e-01, -1.9018e-01, -9.6163e-01,  5.6575e-01],\n",
      "        [-1.9175e-01, -4.6639e-01,  2.8217e+00,  1.5230e-01, -5.0953e-01,\n",
      "          3.0075e-01,  1.3256e-01, -3.7502e-01, -9.4569e-01,  8.1514e-01],\n",
      "        [ 5.1160e-02,  1.6008e-01,  2.5268e+00,  3.2699e-01, -2.5911e-01,\n",
      "          2.2128e-01,  2.7860e-01, -5.4790e-01, -8.6681e-01,  3.8693e-01],\n",
      "        [-4.6968e-01,  1.1829e-01,  3.2506e+00,  5.4877e-01, -4.4072e-01,\n",
      "          6.4956e-01,  3.9342e-01, -9.4772e-01, -9.3286e-01,  1.1706e+00],\n",
      "        [-3.2966e-01,  2.9893e-01,  2.5929e+00, -5.5727e-01, -7.3426e-01,\n",
      "          2.3320e-01, -3.0079e-02, -6.3186e-01, -6.8745e-01,  6.6857e-01],\n",
      "        [-4.2181e-02,  6.8372e-02,  2.2157e+00,  1.6892e-02, -3.6602e-01,\n",
      "          6.4604e-01,  3.9771e-01, -8.8805e-01, -4.3076e-01,  5.0850e-01],\n",
      "        [-8.1259e-02, -4.5371e-02,  2.8110e+00, -7.6529e-02, -7.5415e-01,\n",
      "          2.9501e-01,  3.9834e-01, -4.6931e-01, -9.3201e-01,  1.1450e+00],\n",
      "        [-1.9881e-01, -1.7491e-01,  2.3220e+00,  6.6640e-01, -9.5758e-01,\n",
      "          7.1867e-01,  9.4953e-01, -1.0820e-01, -8.0560e-01,  9.9041e-01],\n",
      "        [-1.4419e-01,  1.2790e-01,  2.7081e+00,  2.5727e-01, -8.2137e-01,\n",
      "          2.5152e-01,  3.5041e-01, -3.9684e-01, -7.6596e-01,  1.0046e+00],\n",
      "        [-6.8684e-01,  1.1742e-01,  2.8946e+00,  7.9507e-01, -6.6281e-01,\n",
      "          8.1256e-01, -1.3478e-01, -7.6383e-01, -1.2084e+00,  4.1612e-01],\n",
      "        [-4.4865e-01, -1.0493e-01,  3.0155e+00,  1.2966e-01, -7.0102e-01,\n",
      "          2.1534e-01, -5.1775e-03, -4.0422e-01, -1.1908e+00,  1.1054e+00],\n",
      "        [-7.0167e-01, -2.8765e-01,  1.6993e+00,  9.2554e-02, -3.9109e-01,\n",
      "          1.0729e+00,  1.1819e+00, -4.6790e-01, -1.4264e+00,  8.4765e-01],\n",
      "        [-5.2082e-01, -2.8761e-01,  2.1621e+00,  7.1684e-01, -6.0994e-01,\n",
      "          5.6223e-02,  1.8182e-02, -9.2945e-01, -3.4839e-01,  6.8014e-01],\n",
      "        [-4.8130e-01,  7.6674e-02,  2.6519e+00,  9.8931e-02, -3.9078e-01,\n",
      "          5.4616e-01,  1.0890e-01, -4.5245e-01, -1.2867e+00,  1.0518e+00],\n",
      "        [-7.0359e-01, -3.2313e-01,  2.3291e+00,  3.8522e-01, -9.2145e-01,\n",
      "          1.1286e-01,  4.4460e-01, -7.8471e-02, -5.6784e-01,  5.5748e-01],\n",
      "        [-6.6096e-01, -1.8438e-02,  2.4501e+00,  2.8461e-01, -5.2602e-01,\n",
      "          2.8337e-01,  1.3166e-01, -5.5941e-01, -7.0431e-01,  9.3168e-01],\n",
      "        [-5.3089e-01, -7.6183e-02,  2.6317e+00, -2.1035e-01, -7.9526e-01,\n",
      "          5.6111e-01,  4.2674e-01, -3.7994e-01, -5.5235e-01,  7.9963e-01],\n",
      "        [-1.6382e-01,  7.5272e-02,  1.3086e+00,  3.0949e-01, -7.3370e-01,\n",
      "          8.3416e-01, -5.2565e-01, -1.0744e-01, -9.0942e-01,  8.1944e-01],\n",
      "        [ 1.2089e-03,  1.4695e-02,  1.3465e+00,  4.2739e-02, -4.2391e-01,\n",
      "          3.3436e-02,  3.3308e-01,  4.4124e-01, -8.6682e-01,  5.0062e-01],\n",
      "        [ 1.6964e-01,  6.4382e-02,  2.5862e+00,  2.7188e-02, -1.5725e-01,\n",
      "          5.4667e-01, -3.0657e-01, -4.3740e-01, -7.5412e-01,  4.1404e-01],\n",
      "        [-6.3253e-01, -3.8924e-01,  2.9964e+00,  2.8769e-01, -6.1748e-01,\n",
      "          3.5492e-01,  1.2879e-01, -6.3072e-01, -8.3418e-01,  7.8251e-01],\n",
      "        [-5.9318e-01,  2.7104e-01,  2.5606e+00, -6.0850e-02, -2.8375e-01,\n",
      "          6.8294e-01,  5.1582e-01, -1.8502e-01, -8.8164e-01,  1.2425e+00],\n",
      "        [-1.0602e-01, -2.1634e-01,  2.4499e+00,  1.2652e-01, -7.5260e-01,\n",
      "          2.3579e-01, -6.6015e-02, -7.3303e-01, -1.2210e+00,  1.6871e+00],\n",
      "        [-1.1675e-01, -1.8504e-01,  2.6048e+00,  4.4818e-01, -8.2440e-01,\n",
      "          2.0748e-01,  5.5779e-01, -6.1691e-01, -8.8231e-01,  9.2222e-01],\n",
      "        [-1.4229e-01,  1.0394e-01,  3.0117e+00, -4.1696e-02, -9.8555e-01,\n",
      "          1.4408e-01,  7.4324e-01, -4.2131e-01, -1.0320e+00,  1.1064e+00],\n",
      "        [-5.3261e-01, -1.0297e-02,  2.8316e+00, -1.1269e-01, -5.8820e-01,\n",
      "          1.2792e-01,  3.1766e-01, -6.7295e-01, -8.9549e-01,  5.4241e-01],\n",
      "        [-1.0144e-01, -5.6995e-01,  1.9970e+00,  2.8365e-01, -4.4999e-01,\n",
      "          5.2850e-01,  1.3152e-01, -7.5463e-01, -8.6610e-01,  4.5310e-01],\n",
      "        [-1.6165e-01, -3.6176e-01,  1.6715e+00,  6.8069e-01, -7.7351e-01,\n",
      "          1.5737e-01,  2.4816e-01,  9.5150e-02, -8.2101e-01,  7.2595e-01],\n",
      "        [-5.6377e-02, -1.4365e-01,  2.2538e+00, -1.2442e-01, -2.9769e-01,\n",
      "          1.9269e-01,  4.0930e-01, -2.7872e-01, -8.2409e-01,  6.6613e-01],\n",
      "        [-7.6966e-01, -1.2577e-01,  2.5433e+00,  1.8693e-01, -7.9087e-01,\n",
      "          6.9930e-01,  3.3167e-01, -7.5283e-01, -6.7191e-01,  7.8947e-01],\n",
      "        [-1.9057e-01, -2.6095e-01,  2.2145e+00,  3.8693e-01, -1.4986e-01,\n",
      "          6.0533e-01,  2.8088e-01, -4.8448e-01, -6.1667e-01,  7.8214e-01]],\n",
      "       grad_fn=<AddmmBackward>)\n"
     ]
    }
   ],
   "source": [
    "for batch in dataloader_train:\n",
    "    outputs = yahoo_classifier(batch[\"input\"])\n",
    "    print(outputs.shape)\n",
    "    print(outputs)\n",
    "    break"
   ]
  },
  {
   "cell_type": "code",
   "execution_count": null,
   "id": "241b2e04-cb34-40ce-93a7-601231e1eb58",
   "metadata": {},
   "outputs": [],
   "source": [
    "classifier_trainer = MulticlassSentenceClassificationTrainerModule(yahoo_classifier)"
   ]
  },
  {
   "cell_type": "code",
   "execution_count": null,
   "id": "8bc08b01-e552-488a-be65-20df2443da86",
   "metadata": {},
   "outputs": [],
   "source": [
    "trainer = pl.Trainer()\n",
    "trainer.fit(classifier_trainer, dataset.train)"
   ]
  }
 ],
 "metadata": {
  "kernelspec": {
   "display_name": "Python 3",
   "language": "python",
   "name": "python3"
  },
  "language_info": {
   "codemirror_mode": {
    "name": "ipython",
    "version": 3
   },
   "file_extension": ".py",
   "mimetype": "text/x-python",
   "name": "python",
   "nbconvert_exporter": "python",
   "pygments_lexer": "ipython3",
   "version": "3.8.8"
  }
 },
 "nbformat": 4,
 "nbformat_minor": 5
}
