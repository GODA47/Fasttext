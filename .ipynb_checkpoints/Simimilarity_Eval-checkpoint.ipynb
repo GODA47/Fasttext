{
 "cells": [
  {
   "cell_type": "code",
   "execution_count": 1,
   "id": "292b811e-c7dd-477b-908a-508b3bd4f2e7",
   "metadata": {},
   "outputs": [],
   "source": [
    "import sys\n",
    "import os\n",
    "\n",
    "from nlp_datasets import YahooDataset\n",
    "from nlp_datasets import BaseDataset\n",
    "from nlp_datasets import WordSim353Dataset\n",
    "from nlp_modeltrainers import BaseTrainerModule\n",
    "from nlp_metrics import Metrics\n",
    "\n",
    "import torch\n",
    "import numpy as np\n",
    "import pytorch_lightning as pl\n",
    "import matplotlib.pyplot as plt\n",
    "\n",
    "from tqdm import tqdm\n",
    "from torch.nn import Module, Linear, Embedding\n",
    "from torch.utils.data import DataLoader\n",
    "\n",
    "from scipy.stats import spearmanr\n",
    "import fastwer\n",
    "\n",
    "from nltk import word_tokenize\n",
    "\n",
    "import torch.nn as nn\n",
    "import torch.nn.functional as F\n",
    "from torch.utils.data import Dataset\n",
    "from pytorch_lightning import LightningModule\n",
    "\n",
    "dev = 'cpu'\n",
    "if torch.cuda.is_available():\n",
    "    dev = \"cuda:0\"\n",
    "\n",
    "device = torch.device(dev)"
   ]
  },
  {
   "cell_type": "code",
   "execution_count": 2,
   "id": "5bf42de4-f45e-429d-a084-692f0d538363",
   "metadata": {},
   "outputs": [],
   "source": [
    "from utils.SubwordHash import subwordhash\n",
    "from utils.SubwordEmbedding import subwordembedding\n",
    "from utils.config import *"
   ]
  },
  {
   "cell_type": "code",
   "execution_count": 3,
   "id": "8a402731-f088-44e7-baa5-2d2a825bea49",
   "metadata": {},
   "outputs": [
    {
     "name": "stdout",
     "output_type": "stream",
     "text": [
      "Loaded model: trained_model_50d_100e\n",
      "2000001\n"
     ]
    }
   ],
   "source": [
    "word_embedding = subwordembedding(num_embeddings = num_emb, embedding_dim = emb_dim, device = device, padding_idx = 0)\n",
    "word_embedding.load_state_dict(torch.load(emb_path))\n",
    "print(f'Loaded model: trained_model_{emb_dim}d_{epoch}')\n",
    "print(word_embedding.num_embeddings)"
   ]
  },
  {
   "cell_type": "code",
   "execution_count": 4,
   "id": "3cb72d3a-c159-4420-b2bd-5e5c67ce047b",
   "metadata": {
    "scrolled": true,
    "tags": []
   },
   "outputs": [
    {
     "name": "stderr",
     "output_type": "stream",
     "text": [
      "100%|█████████████████████████████████████████████████████████████████████████████████| 9000/9000 [00:06<00:00, 1332.03it/s]\n"
     ]
    },
    {
     "name": "stdout",
     "output_type": "stream",
     "text": [
      "377\n",
      "995\n"
     ]
    }
   ],
   "source": [
    "dataset = YahooDataset(max_samples=max_samples, local_dir=\"../datasets/small_yahoo_dataset\")\n",
    "subword_hashes = subwordhash(dataset.train)\n",
    "\n",
    "max_sw_hash_len = subword_hashes.max_hash\n",
    "max_sample_len = subword_hashes.max_sample\n",
    "print(max_sw_hash_len)\n",
    "print(max_sample_len)"
   ]
  },
  {
   "cell_type": "raw",
   "id": "0dd1f0c9-82b8-4b17-875b-33d9649ec0b2",
   "metadata": {
    "tags": []
   },
   "source": [
    "def similarity_eval(word_corpus, word_embedding, subword_hashes):\n",
    "    mae = []\n",
    "    less = []\n",
    "    more = []\n",
    "    similarities = []\n",
    "    target_similarities = []\n",
    "    if isinstance(word_corpus[0], dict):\n",
    "        keys = list(word_corpus[0])\n",
    "    else:\n",
    "        keys = range(len(word_corpus[0]))\n",
    "    for w in tqdm(word_corpus):\n",
    "        w1 = subword_hashes(w[keys[0]])\n",
    "        w2 = subword_hashes(w[keys[1]])\n",
    "        subword_embed = word_embedding.subword_embedding(torch.tensor([w1,w2],dtype = torch.long)).to(device)\n",
    "        word_embed = subword_embed.sum(dim = len(subword_embed.shape) -2).unsqueeze(1).to(device)\n",
    "        model_sim = float(F.cosine_similarity(word_embed[0], word_embed[1]))\n",
    "        similarities.append(model_sim)\n",
    "        target_sim = 1 - fastwer.score_sent(w[0], w[1], char_level = True)/100\n",
    "        target_similarities.append(target_sim)\n",
    "        mae.append(abs(target_sim - model_sim))\n",
    "        if target_sim - model_sim >=0:\n",
    "            less.append(abs(target_sim - model_sim))\n",
    "        elif target_sim - model_sim < 0:\n",
    "            more.append(abs(target_sim - model_sim))\n",
    "            \n",
    "    print(f\"MAE: {np.mean(mae)}\")\n",
    "    print(f\"MAE (More): {np.mean(more)}\")\n",
    "    print(f\"MAE (Less): {np.mean(less)}\")\n",
    "    plt.figure(figsize=[20,5])\n",
    "    plt.plot(similarities)\n",
    "    plt.plot(target_similarities)\n",
    "#     plt.xticks(range(0,20), labels=range(1,21))\n",
    "    plt.grid()\n",
    "    plt.show()\n",
    "    \n",
    "def similarity_plot(word_embedding, max_char_len = 20):\n",
    "    np.random.seed(0)\n",
    "    words_num = 1000\n",
    "    chars = list('qwertyuiopasdfghjklzxcvbnm')\n",
    "    similarities = []\n",
    "    target_similarities = []\n",
    "    for char_len in tqdm(range(1,max_char_len +1)):\n",
    "        g_words1 = [\"\".join(sampling_chars) for sampling_chars in np.random.choice(chars, size=[words_num, char_len], replace=True)]\n",
    "        g_words2 = [\"\".join(sampling_chars) for sampling_chars in np.random.choice(chars, size=[words_num, char_len], replace=True)]\n",
    "        \n",
    "        gw1 = [subword_hashes(w) for w in g_words1]\n",
    "        gw2 = [subword_hashes(w) for w in g_words2]\n",
    "        subword_embed = word_embedding.subword_embedding(torch.tensor([gw1,gw2],dtype = torch.long)).to(device)\n",
    "        g_word_embed = subword_embed.sum(dim = len(subword_embed.shape) -2).to(device)\n",
    "        model_sim = F.cosine_similarity(g_word_embed[0], g_word_embed[1]).to(torch.device(\"cpu\")).detach().numpy()\n",
    "        similarities.append(model_sim.mean())\n",
    "        target_sim = 1 - fastwer.score(g_words1, g_words2, char_level = True)/100\n",
    "        target_similarities.append(target_sim)\n",
    "    \n",
    "    plt.figure(figsize=[20,5])\n",
    "    plt.plot(similarities)\n",
    "    plt.plot(target_similarities)\n",
    "    plt.xticks(range(0,20), labels=range(1,21))\n",
    "    plt.grid()\n",
    "    plt.show()"
   ]
  },
  {
   "cell_type": "raw",
   "id": "9345fbd7-7271-4880-8997-7d763162e85e",
   "metadata": {
    "jupyter": {
     "source_hidden": true
    },
    "tags": []
   },
   "source": [
    "with open(\"../NLP_Utilities/NLP_Datasets/datasets/spelling_similarity_corpus/words_corpus.txt\", \"r\") as f:\n",
    "    words_corpus = [line.split(\":\") for line in f.read().split(\"\\n\")]\n",
    "    \n",
    "with open(\"../NLP_Utilities/NLP_Datasets/datasets/spelling_similarity_corpus/anagram_corpus.txt\", \"r\") as f:\n",
    "    anagram_corpus = [line.split(\":\") for line in f.read().split(\"\\n\")]\n",
    "    \n",
    "with open(\"../NLP_Utilities/NLP_Datasets/datasets/spelling_similarity_corpus/misspellings_corpus.txt\", \"r\") as f:\n",
    "    misspellings_corpus = [line.split(\":\") for line in f.read().split(\"\\n\")]"
   ]
  },
  {
   "cell_type": "raw",
   "id": "5442c0d0-bc1e-436f-a971-29b64738cbeb",
   "metadata": {
    "jupyter": {
     "source_hidden": true
    },
    "tags": []
   },
   "source": [
    "similarity_eval(misspellings_corpus, word_embedding, subword_hashes)"
   ]
  },
  {
   "cell_type": "code",
   "execution_count": 79,
   "id": "8a5ea511-699e-4912-a96e-64cec6f8757b",
   "metadata": {
    "tags": []
   },
   "outputs": [],
   "source": [
    "def semantic_eval(word_corpus, word_embedding, subword_hashes):\n",
    "    spearman_corr = Metrics(\"Spearman\")\n",
    "    cosine_sim = Metrics(\"Cosine_Similarity\")\n",
    "    \n",
    "    target_sim = np.array([])\n",
    "    model_sim = np.array([])\n",
    "    \n",
    "    if isinstance(word_corpus[0], dict):\n",
    "        keys = list(word_corpus[0])\n",
    "    else:\n",
    "        keys = range(3)\n",
    "        \n",
    "    for w in tqdm(word_corpus):\n",
    "        sw1 = subword_hashes(w[keys[0]])\n",
    "        sw2 = subword_hashes(w[keys[1]])\n",
    "        subword_embed = word_embedding.subword_embedding(torch.tensor([sw1,sw2], dtype = torch.long))\n",
    "        word_embed = subword_embed.sum(dim = len(subword_embed.shape) -2).unsqueeze(1).detach().numpy()\n",
    "        cos_sim = cosine_sim(word_embed[0], word_embed[1])[\"Cosine_Similarity\"]\n",
    "        model_sim = np.append(model_sim, cos_sim)\n",
    "        target_sim = np.append(target_sim, w[keys[2]])\n",
    "    model_sim = np.expand_dims(model_sim, axis = 0)\n",
    "    target_sim = np.expand_dims(target_sim, axis = 0)\n",
    "    \n",
    "    spearman_coef = spearman_corr(model_sim, target_sim)[\"Spearman\"]\n",
    "#     spearman_coef.append(correlation)\n",
    "#         target_sim.append(w[keys[2]])\n",
    "#     print('model_sim: ', model_sim)\n",
    "#     print('target_sim: ', target_sim)\n",
    "    print('spearman_coef: ', spearman_coef)\n",
    "    plt.figure(figsize=[20,5])\n",
    "#     plt.plot(spearman_coef)\n",
    "    plt.plot(model_sim[0])\n",
    "    plt.plot(target_sim[0])\n",
    "    plt.grid()\n",
    "    plt.show()\n",
    "    "
   ]
  },
  {
   "cell_type": "code",
   "execution_count": 80,
   "id": "bf8efe32-7c98-4282-9ad6-a6b9b185c7d5",
   "metadata": {},
   "outputs": [],
   "source": [
    "WS353ds = WordSim353Dataset(max_samples = max_samples, local_dir = \"../datasets/WordSim353Dataset\")\n",
    "word_corpus = WS353ds.test"
   ]
  },
  {
   "cell_type": "code",
   "execution_count": 81,
   "id": "ac7c0b9b-a8dc-4f5b-a0f2-3f7449cf6c15",
   "metadata": {},
   "outputs": [
    {
     "name": "stderr",
     "output_type": "stream",
     "text": [
      "100%|█████████████████████████████████████████████████████████████████████████████████████| 35/35 [00:00<00:00, 1132.01it/s]"
     ]
    },
    {
     "name": "stdout",
     "output_type": "stream",
     "text": [
      "spearman_coef:  0.044817927170868355\n"
     ]
    },
    {
     "name": "stderr",
     "output_type": "stream",
     "text": [
      "\n"
     ]
    },
    {
     "data": {
      "image/png": "[encoded data removed]",
      "text/plain": [
       "<Figure size 1440x360 with 1 Axes>"
      ]
     },
     "metadata": {
      "needs_background": "light"
     },
     "output_type": "display_data"
    }
   ],
   "source": [
    "semantic_eval(word_corpus, word_embedding, subword_hashes)"
   ]
  },
  {
   "cell_type": "markdown",
   "id": "44d40db4-7c94-4e60-9297-07dc2e62f2ea",
   "metadata": {},
   "source": [
    "##### a = Metrics('')"
   ]
  },
  {
   "cell_type": "code",
   "execution_count": 8,
   "id": "a83940be-1c6e-4bdb-8b36-35674a5442a6",
   "metadata": {},
   "outputs": [
    {
     "ename": "NameError",
     "evalue": "name 'misspellings_corpus' is not defined",
     "output_type": "error",
     "traceback": [
      "\u001b[1;31m---------------------------------------------------------------------------\u001b[0m",
      "\u001b[1;31mNameError\u001b[0m                                 Traceback (most recent call last)",
      "\u001b[1;32m<ipython-input-8-8ba468a6d8ba>\u001b[0m in \u001b[0;36m<module>\u001b[1;34m\u001b[0m\n\u001b[1;32m----> 1\u001b[1;33m \u001b[0mmisspellings_corpus\u001b[0m\u001b[1;33m[\u001b[0m\u001b[1;36m0\u001b[0m\u001b[1;33m]\u001b[0m\u001b[1;33m\u001b[0m\u001b[1;33m\u001b[0m\u001b[0m\n\u001b[0m",
      "\u001b[1;31mNameError\u001b[0m: name 'misspellings_corpus' is not defined"
     ]
    }
   ],
   "source": [
    "misspellings_corpus[0]"
   ]
  },
  {
   "cell_type": "code",
   "execution_count": 34,
   "id": "0a0a5069-c6f6-475a-bf6a-85404bd8b286",
   "metadata": {},
   "outputs": [
    {
     "data": {
      "text/plain": [
       "array([10., 20.])"
      ]
     },
     "execution_count": 34,
     "metadata": {},
     "output_type": "execute_result"
    }
   ],
   "source": [
    "a = np.array([])\n",
    "a = np.append(a,10)\n",
    "a = np.append(a,20)\n",
    "a"
   ]
  },
  {
   "cell_type": "code",
   "execution_count": null,
   "id": "fb54369b-8a7e-4d01-8c05-ff074e4c12eb",
   "metadata": {},
   "outputs": [],
   "source": []
  }
 ],
 "metadata": {
  "kernelspec": {
   "display_name": "Python 3",
   "language": "python",
   "name": "python3"
  },
  "language_info": {
   "codemirror_mode": {
    "name": "ipython",
    "version": 3
   },
   "file_extension": ".py",
   "mimetype": "text/x-python",
   "name": "python",
   "nbconvert_exporter": "python",
   "pygments_lexer": "ipython3",
   "version": "3.8.8"
  }
 },
 "nbformat": 4,
 "nbformat_minor": 5
}
